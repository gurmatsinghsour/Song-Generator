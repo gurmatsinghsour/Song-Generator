{
 "cells": [
  {
   "cell_type": "code",
   "execution_count": 1,
   "metadata": {
    "_cell_guid": "b1076dfc-b9ad-4769-8c92-a6c4dae69d19",
    "_uuid": "8f2839f25d086af736a60e9eeb907d3b93b6e0e5",
    "execution": {
     "iopub.execute_input": "2025-07-10T15:28:40.321354Z",
     "iopub.status.busy": "2025-07-10T15:28:40.320753Z",
     "iopub.status.idle": "2025-07-10T15:28:49.270338Z",
     "shell.execute_reply": "2025-07-10T15:28:49.269357Z",
     "shell.execute_reply.started": "2025-07-10T15:28:40.321321Z"
    },
    "trusted": true
   },
   "outputs": [],
   "source": [
    "import torch\n",
    "import torch.nn as nn\n",
    "import torch.optim as optim\n",
    "from torch.utils.data import TensorDataset, DataLoader\n",
    "\n",
    "import pandas as pd\n",
    "import numpy as np\n",
    "import re\n",
    "\n",
    "# Used for tokenization from the original notebook\n",
    "from tensorflow.keras.preprocessing.text import Tokenizer\n",
    "from tensorflow.keras.preprocessing.sequence import pad_sequences\n"
   ]
  },
  {
   "cell_type": "code",
   "execution_count": 2,
   "metadata": {},
   "outputs": [
    {
     "name": "stdout",
     "output_type": "stream",
     "text": [
      "MPS (Apple Metal GPU) is available. Using MPS.\n"
     ]
    }
   ],
   "source": [
    "# --- 1. Device Configuration (for M1/M2/M3 Mac GPU) ---\n",
    "# This is the command to select the appropriate hardware for training\n",
    "if torch.backends.mps.is_available():\n",
    "    device = torch.device(\"mps\")\n",
    "    print(\"MPS (Apple Metal GPU) is available. Using MPS.\")\n",
    "elif torch.cuda.is_available():\n",
    "    device = torch.device(\"cuda\")\n",
    "    print(\"CUDA is available. Using CUDA.\")\n",
    "else:\n",
    "    device = torch.device(\"cpu\")\n",
    "    print(\"No GPU available. Using CPU.\")"
   ]
  },
  {
   "cell_type": "code",
   "execution_count": 3,
   "metadata": {
    "execution": {
     "iopub.execute_input": "2025-07-10T15:28:49.272486Z",
     "iopub.status.busy": "2025-07-10T15:28:49.271973Z",
     "iopub.status.idle": "2025-07-10T15:28:50.623489Z",
     "shell.execute_reply": "2025-07-10T15:28:50.622922Z",
     "shell.execute_reply.started": "2025-07-10T15:28:49.272464Z"
    },
    "trusted": true
   },
   "outputs": [],
   "source": [
    "df = pd.read_csv(\"song_lyrics.csv\", usecols=['lyrics'], encoding='utf-8', nrows=500)\n",
    "df.dropna(inplace=True)\n",
    "df.drop_duplicates(inplace=True)"
   ]
  },
  {
   "cell_type": "code",
   "execution_count": 4,
   "metadata": {
    "execution": {
     "iopub.execute_input": "2025-07-10T15:28:50.624491Z",
     "iopub.status.busy": "2025-07-10T15:28:50.624258Z",
     "iopub.status.idle": "2025-07-10T15:28:50.669023Z",
     "shell.execute_reply": "2025-07-10T15:28:50.668223Z",
     "shell.execute_reply.started": "2025-07-10T15:28:50.624471Z"
    },
    "trusted": true
   },
   "outputs": [
    {
     "name": "stdout",
     "output_type": "stream",
     "text": [
      "Loaded 495 unique song lyrics.\n"
     ]
    }
   ],
   "source": [
    "print(f\"Loaded {len(df)} unique song lyrics.\")"
   ]
  },
  {
   "cell_type": "code",
   "execution_count": 5,
   "metadata": {
    "execution": {
     "iopub.execute_input": "2025-07-10T15:28:50.888570Z",
     "iopub.status.busy": "2025-07-10T15:28:50.887726Z",
     "iopub.status.idle": "2025-07-10T15:28:50.901158Z",
     "shell.execute_reply": "2025-07-10T15:28:50.900438Z",
     "shell.execute_reply.started": "2025-07-10T15:28:50.888500Z"
    },
    "trusted": true
   },
   "outputs": [],
   "source": [
    "def clean_text(text):\n",
    "    text = str(text).lower()\n",
    "    # remove \\n\n",
    "    text = text.replace('\\n', ' ')\n",
    "    # remove text in square brackets\n",
    "    text = re.sub(r'\\[.*?\\]', '', text)\n",
    "    # remove punctuation\n",
    "    text = re.sub(r'[,\\.!?()]', '', text)\n",
    "    # remove numbers\n",
    "    text = re.sub(r'\\w*\\d\\w*',' ', text)\n",
    "    # remove extra whitespace\n",
    "    text = re.sub(r'\\s+', ' ', text).strip()\n",
    "    # replace multiple newlines/spaces with a single one \n",
    "    text = re.sub(r'\\s+', ' ', text).strip()\n",
    "    # Keep letters, numbers, basic punctuation, and newlines\n",
    "    text = re.sub(r'[^a-z0-9\\s\\n\\']', '', text)\n",
    "    return text\n"
   ]
  },
  {
   "cell_type": "code",
   "execution_count": 6,
   "metadata": {
    "execution": {
     "iopub.execute_input": "2025-07-10T15:28:50.902142Z",
     "iopub.status.busy": "2025-07-10T15:28:50.901816Z",
     "iopub.status.idle": "2025-07-10T15:29:10.368312Z",
     "shell.execute_reply": "2025-07-10T15:29:10.367648Z",
     "shell.execute_reply.started": "2025-07-10T15:28:50.902112Z"
    },
    "trusted": true
   },
   "outputs": [],
   "source": [
    "# Apply cleaning to each lyric individually\n",
    "corpus_lines = [clean_text(lyric) for lyric in df['lyrics'].tolist()]\n",
    "corpus_lines = [line for line in corpus_lines if line] # Remove empty lines after cleaning\n",
    "corpus_lines = corpus_lines[:1000]  # Use only 1000 lines for testing"
   ]
  },
  {
   "cell_type": "code",
   "execution_count": 7,
   "metadata": {
    "execution": {
     "iopub.execute_input": "2025-07-10T15:29:10.369422Z",
     "iopub.status.busy": "2025-07-10T15:29:10.369152Z",
     "iopub.status.idle": "2025-07-10T15:29:15.168528Z",
     "shell.execute_reply": "2025-07-10T15:29:15.167842Z",
     "shell.execute_reply.started": "2025-07-10T15:29:10.369395Z"
    },
    "trusted": true
   },
   "outputs": [
    {
     "name": "stdout",
     "output_type": "stream",
     "text": [
      "Total unique words in vocabulary: 12767\n"
     ]
    }
   ],
   "source": [
    "# --- 3. Tokenization ---\n",
    "# We can still use Keras's tokenizer for convenience\n",
    "tokenizer = Tokenizer(oov_token='<oov>') # Added an OOV token\n",
    "tokenizer.fit_on_texts(corpus_lines)\n",
    "total_words = len(tokenizer.word_index) + 1\n",
    "\n",
    "print(f\"Total unique words in vocabulary: {total_words}\")"
   ]
  },
  {
   "cell_type": "code",
   "execution_count": 8,
   "metadata": {
    "execution": {
     "iopub.execute_input": "2025-07-10T15:29:15.169527Z",
     "iopub.status.busy": "2025-07-10T15:29:15.169294Z",
     "iopub.status.idle": "2025-07-10T15:29:19.945996Z",
     "shell.execute_reply": "2025-07-10T15:29:19.945068Z",
     "shell.execute_reply.started": "2025-07-10T15:29:15.169507Z"
    },
    "trusted": true
   },
   "outputs": [],
   "source": [
    "# Create n-gram sequences for the model\n",
    "# NOTE: This process is very memory-intensive. For larger datasets,\n",
    "# creating sequences on-the-fly with a custom Dataset is recommended.\n",
    "input_sequences = []\n",
    "for line in corpus_lines:\n",
    "    token_list = tokenizer.texts_to_sequences([line])[0]\n",
    "    for i in range(1, len(token_list)):\n",
    "        n_gram_sequence = token_list[:i+1]\n",
    "        input_sequences.append(n_gram_sequence)\n"
   ]
  },
  {
   "cell_type": "code",
   "execution_count": 9,
   "metadata": {},
   "outputs": [],
   "source": [
    "# Pad sequences\n",
    "max_sequence_len = max([len(x) for x in input_sequences])\n",
    "input_sequences = np.array(pad_sequences(input_sequences, maxlen=max_sequence_len, padding='pre'))"
   ]
  },
  {
   "cell_type": "code",
   "execution_count": 10,
   "metadata": {
    "execution": {
     "execution_failed": "2025-07-10T15:30:15.380Z"
    },
    "trusted": true
   },
   "outputs": [
    {
     "name": "stdout",
     "output_type": "stream",
     "text": [
      "\n",
      "Max sequence length: 14575\n",
      "Shape of predictors (X): torch.Size([161110, 14574])\n",
      "Shape of label (y): torch.Size([161110])\n"
     ]
    }
   ],
   "source": [
    "# Create predictors (X) and labels (y)\n",
    "X_np, y_np = input_sequences[:,:-1], input_sequences[:,-1]\n",
    "\n",
    "# Convert to PyTorch Tensors\n",
    "X = torch.LongTensor(X_np)\n",
    "y = torch.LongTensor(y_np)\n",
    "\n",
    "print(f\"\\nMax sequence length: {max_sequence_len}\")\n",
    "print(f\"Shape of predictors (X): {X.shape}\")\n",
    "print(f\"Shape of label (y): {y.shape}\")\n"
   ]
  },
  {
   "cell_type": "code",
   "execution_count": 11,
   "metadata": {
    "trusted": true
   },
   "outputs": [],
   "source": [
    "# --- 4. Define the PyTorch LSTM Model ---\n",
    "class LyricGenerator(nn.Module):\n",
    "    def __init__(self, vocab_size, embedding_dim, hidden_dim, dropout_rate=0.2):\n",
    "        super(LyricGenerator, self).__init__()\n",
    "        self.embedding = nn.Embedding(vocab_size, embedding_dim)\n",
    "        self.lstm1 = nn.LSTM(embedding_dim, hidden_dim, batch_first=True, bidirectional=True)\n",
    "        self.dropout = nn.Dropout(dropout_rate)\n",
    "        self.lstm2 = nn.LSTM(hidden_dim * 2, hidden_dim, batch_first=True) \n",
    "        self.output_layer = nn.Linear(hidden_dim, vocab_size)\n",
    "\n",
    "    def forward(self, x):\n",
    "        x = self.embedding(x)\n",
    "        x, _ = self.lstm1(x)\n",
    "        x = self.dropout(x)\n",
    "        x, _ = self.lstm2(x)\n",
    "        # We take the output of the last time step\n",
    "        x = x[:, -1, :]\n",
    "        # x = torch.relu(self.fc1(x))\n",
    "        x = self.output_layer(x)\n",
    "        return x\n"
   ]
  },
  {
   "cell_type": "code",
   "execution_count": 12,
   "metadata": {
    "trusted": true
   },
   "outputs": [],
   "source": [
    "# Model parameters\n",
    "EMBEDDING_DIM = 100\n",
    "HIDDEN_DIM = 150\n",
    "LEARNING_RATE = 0.001\n",
    "EPOCHS = 30\n",
    "BATCH_SIZE = 16"
   ]
  },
  {
   "cell_type": "code",
   "execution_count": 13,
   "metadata": {},
   "outputs": [],
   "source": [
    "from torch.utils.data import Dataset\n",
    "\n",
    "class LyricsDataset(Dataset):\n",
    "    def __init__(self, corpus_lines, tokenizer, max_sequence_len):\n",
    "        self.sequences = []\n",
    "        for line in corpus_lines:\n",
    "            token_list = tokenizer.texts_to_sequences([line])[0]\n",
    "            for i in range(1, len(token_list)):\n",
    "                n_gram_sequence = token_list[:i+1]\n",
    "                self.sequences.append(n_gram_sequence)\n",
    "        self.max_sequence_len = max_sequence_len\n",
    "\n",
    "    def __len__(self):\n",
    "        return len(self.sequences)\n",
    "\n",
    "    def __getitem__(self, idx):\n",
    "        seq = pad_sequences([self.sequences[idx]], maxlen=self.max_sequence_len, padding='pre')[0]\n",
    "        X = torch.LongTensor(seq[:-1])\n",
    "        y = torch.LongTensor([seq[-1]])\n",
    "        return X, y.squeeze()"
   ]
  },
  {
   "cell_type": "code",
   "execution_count": 14,
   "metadata": {},
   "outputs": [],
   "source": [
    "# Instantiate the model, loss, and optimizer\n",
    "model = LyricGenerator(total_words, EMBEDDING_DIM, HIDDEN_DIM).to(device)\n",
    "# Use CrossEntropyLoss which handles integer labels automatically\n",
    "criterion = nn.CrossEntropyLoss()\n",
    "# L2 regularization is added via the 'weight_decay' parameter in the optimizer\n",
    "optimizer = optim.Adam(model.parameters(), lr=LEARNING_RATE, weight_decay=0.01)\n",
    "\n",
    "# Create DataLoader for batching\n",
    "train_data = TensorDataset(X, y)\n",
    "\n",
    "# Usage:\n",
    "dataset = LyricsDataset(corpus_lines, tokenizer, max_sequence_len)\n",
    "train_loader = DataLoader(dataset, batch_size=BATCH_SIZE, shuffle=True)"
   ]
  },
  {
   "cell_type": "code",
   "execution_count": 15,
   "metadata": {},
   "outputs": [
    {
     "name": "stdout",
     "output_type": "stream",
     "text": [
      "\n",
      "--- Starting Model Training ---\n"
     ]
    },
    {
     "ename": "KeyboardInterrupt",
     "evalue": "",
     "output_type": "error",
     "traceback": [
      "\u001b[31m---------------------------------------------------------------------------\u001b[39m",
      "\u001b[31mKeyboardInterrupt\u001b[39m                         Traceback (most recent call last)",
      "\u001b[36mCell\u001b[39m\u001b[36m \u001b[39m\u001b[32mIn[15]\u001b[39m\u001b[32m, line 16\u001b[39m\n\u001b[32m     13\u001b[39m     loss.backward()          \u001b[38;5;66;03m# Backward pass\u001b[39;00m\n\u001b[32m     14\u001b[39m     optimizer.step()         \u001b[38;5;66;03m# Update weights\u001b[39;00m\n\u001b[32m---> \u001b[39m\u001b[32m16\u001b[39m     total_loss += loss.item()\n\u001b[32m     18\u001b[39m avg_loss = total_loss / \u001b[38;5;28mlen\u001b[39m(train_loader)\n\u001b[32m     19\u001b[39m \u001b[38;5;28mprint\u001b[39m(\u001b[33mf\u001b[39m\u001b[33m\"\u001b[39m\u001b[33mEpoch \u001b[39m\u001b[38;5;132;01m{\u001b[39;00mepoch+\u001b[32m1\u001b[39m\u001b[38;5;132;01m}\u001b[39;00m\u001b[33m/\u001b[39m\u001b[38;5;132;01m{\u001b[39;00mEPOCHS\u001b[38;5;132;01m}\u001b[39;00m\u001b[33m | Loss: \u001b[39m\u001b[38;5;132;01m{\u001b[39;00mavg_loss\u001b[38;5;132;01m:\u001b[39;00m\u001b[33m.4f\u001b[39m\u001b[38;5;132;01m}\u001b[39;00m\u001b[33m\"\u001b[39m)\n",
      "\u001b[31mKeyboardInterrupt\u001b[39m: "
     ]
    }
   ],
   "source": [
    "# --- 5. PyTorch Training Loop ---\n",
    "print(\"\\n--- Starting Model Training ---\")\n",
    "model.train() # Set model to training mode\n",
    "for epoch in range(EPOCHS):\n",
    "    total_loss = 0\n",
    "    for batch_X, batch_y in train_loader:\n",
    "        # Move data to the configured device (CPU or MPS)\n",
    "        batch_X, batch_y = batch_X.to(device), batch_y.to(device)\n",
    "\n",
    "        optimizer.zero_grad()    # Clear previous gradients\n",
    "        outputs = model(batch_X) # Forward pass\n",
    "        loss = criterion(outputs, batch_y) # Calculate loss\n",
    "        loss.backward()          # Backward pass\n",
    "        optimizer.step()         # Update weights\n",
    "\n",
    "        total_loss += loss.item()\n",
    "\n",
    "    avg_loss = total_loss / len(train_loader)\n",
    "    print(f\"Epoch {epoch+1}/{EPOCHS} | Loss: {avg_loss:.4f}\")\n",
    "\n"
   ]
  },
  {
   "cell_type": "code",
   "execution_count": null,
   "metadata": {},
   "outputs": [],
   "source": [
    "def generate_lyrics(seed_text, next_words, model, max_sequence_len):\n",
    "    model.eval() # Set model to evaluation mode\n",
    "    generated_text = seed_text\n",
    "\n",
    "    for _ in range(next_words):\n",
    "        token_list = tokenizer.texts_to_sequences([generated_text])[0]\n",
    "        token_list = pad_sequences([token_list], maxlen=max_sequence_len - 1, padding='pre')\n",
    "        \n",
    "        # Convert to a PyTorch tensor and move to device\n",
    "        input_tensor = torch.LongTensor(token_list).to(device)\n",
    "\n",
    "        # Get prediction (no gradients needed)\n",
    "        with torch.no_grad():\n",
    "            output = model(input_tensor)\n",
    "            # Get the word with the highest probability (we don't need softmax, just the argmax)\n",
    "            predicted_index = torch.argmax(output, dim=1).item()\n",
    "\n",
    "        # Find the word corresponding to the predicted index\n",
    "        output_word = \"\"\n",
    "        for word, index in tokenizer.word_index.items():\n",
    "            if index == predicted_index:\n",
    "                output_word = word\n",
    "                break\n",
    "        \n",
    "        generated_text += \" \" + output_word\n",
    "        \n",
    "    return generated_text\n",
    "\n",
    "# --- 7. Generate New Lyrics ---\n",
    "print(\"\\n--- Generated Lyrics ---\")\n",
    "seed_text = \"i see a fire\"\n",
    "generated_lyrics = generate_lyrics(seed_text, 50, model, max_sequence_len)\n",
    "print(generated_lyrics)"
   ]
  },
  {
   "cell_type": "code",
   "execution_count": null,
   "metadata": {},
   "outputs": [],
   "source": [
    "# Save the trained model in .pt (PyTorch) format\n",
    "torch.save(model.state_dict(), \"lyric_generator_model.pth\")\n",
    "print(\"Model saved as lyric_generator_model.pth\")"
   ]
  }
 ],
 "metadata": {
  "kaggle": {
   "accelerator": "nvidiaTeslaT4",
   "dataSources": [
    {
     "datasetId": 2805070,
     "sourceId": 4840139,
     "sourceType": "datasetVersion"
    }
   ],
   "dockerImageVersionId": 31090,
   "isGpuEnabled": true,
   "isInternetEnabled": true,
   "language": "python",
   "sourceType": "notebook"
  },
  "kernelspec": {
   "display_name": "ml-gpu",
   "language": "python",
   "name": "python3"
  },
  "language_info": {
   "codemirror_mode": {
    "name": "ipython",
    "version": 3
   },
   "file_extension": ".py",
   "mimetype": "text/x-python",
   "name": "python",
   "nbconvert_exporter": "python",
   "pygments_lexer": "ipython3",
   "version": "3.11.13"
  }
 },
 "nbformat": 4,
 "nbformat_minor": 4
}
