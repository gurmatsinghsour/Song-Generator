{
 "cells": [
  {
   "cell_type": "code",
   "execution_count": 2,
   "id": "6b64cb34",
   "metadata": {},
   "outputs": [],
   "source": [
    "import pandas as pd\n",
    "import numpy as np\n",
    "import re\n",
    "import pickle\n",
    "from tensorflow.keras.models import load_model\n",
    "from tensorflow.keras.preprocessing.sequence import pad_sequences\n",
    "from tensorflow.keras.utils import to_categorical\n",
    "import os"
   ]
  },
  {
   "cell_type": "code",
   "execution_count": 10,
   "id": "2bd20dba",
   "metadata": {},
   "outputs": [
    {
     "name": "stdout",
     "output_type": "stream",
     "text": [
      "Latest model: song_generator_v4.h5\n"
     ]
    }
   ],
   "source": [
    "models_path = \"Models/\"\n",
    "all_files = os.listdir(models_path)\n",
    "file_names = [f for f in all_files if f.endswith('.h5')]\n",
    "files_names = file_names.sort(key=lambda x: int(x.split('_v')[1].split('.')[0]))\n",
    "latest_model = file_names[-1] if file_names else None\n",
    "print(f\"Latest model: {latest_model}\")"
   ]
  },
  {
   "cell_type": "code",
   "execution_count": null,
   "id": "6fed6e76",
   "metadata": {},
   "outputs": [],
   "source": [
    "# Ensure the script runs in the correct directory\n",
    "csv_path = '/Dataset/song_lyrics.csv'  # Path to full CSV\n",
    "batch_size = 100                # Number of lyrics per chunk\n",
    "batch_index = 1                  # Set to 0 for first 1000, 1 for next 1000, etc.\n",
    "\n",
    "\n",
    "model_path = latest_model  # Path to your saved model\n",
    "tokenizer_path = 'tokenizer.pkl'     # Path to your saved tokenizer"
   ]
  },
  {
   "cell_type": "code",
   "execution_count": null,
   "id": "dda82ad0",
   "metadata": {},
   "outputs": [],
   "source": [
    "def clean_text(text):\n",
    "    text = str(text).lower()\n",
    "    text = text.replace('\\n', ' ')\n",
    "    text = re.sub(r'\\[.*?\\]', '', text)\n",
    "    text = re.sub(r'[,\\.!?()]', '', text)\n",
    "    text = re.sub(r'\\w*\\d\\w*',' ', text)\n",
    "    text = re.sub(r'\\s+', ' ', text).strip()\n",
    "    text = re.sub(r'[^a-z0-9\\s\\n\\']', '', text)\n",
    "    return text"
   ]
  },
  {
   "cell_type": "code",
   "execution_count": null,
   "id": "101f655c",
   "metadata": {},
   "outputs": [],
   "source": [
    "skip = 1 + (batch_index * batch_size)  # skip header + previous rows\n",
    "df = pd.read_csv(csv_path, usecols=['lyrics'], skiprows=range(1, skip), nrows=batch_size)\n",
    "df['lyrics'] = df['lyrics'].apply(clean_text)\n",
    "df = df[df['lyrics'].str.strip().astype(bool)]"
   ]
  },
  {
   "cell_type": "code",
   "execution_count": null,
   "id": "9b78078f",
   "metadata": {},
   "outputs": [],
   "source": [
    "with open(tokenizer_path, 'rb') as f:\n",
    "    tokenizer = pickle.load(f)\n"
   ]
  },
  {
   "cell_type": "code",
   "execution_count": null,
   "id": "e32ba312",
   "metadata": {},
   "outputs": [],
   "source": [
    "# ------------------------\n",
    "# CONVERT TO SEQUENCES\n",
    "# ------------------------\n",
    "sequences = tokenizer.texts_to_sequences(df['lyrics'])\n",
    "sequences = [s for s in sequences if len(s) > 5]\n",
    "\n",
    "input_sequences = []\n",
    "for seq in sequences:\n",
    "    for i in range(1, len(seq)):\n",
    "        n_gram_seq = seq[:i+1]\n",
    "        input_sequences.append(n_gram_seq)\n",
    "\n",
    "if not input_sequences:\n",
    "    raise ValueError(\"No valid sequences generated from this chunk.\")\n",
    "\n",
    "max_seq_len = max(len(x) for x in input_sequences)\n",
    "input_sequences = pad_sequences(input_sequences, maxlen=max_seq_len, padding='pre')\n",
    "\n",
    "X = input_sequences[:, :-1]\n",
    "y = to_categorical(input_sequences[:, -1], num_classes=len(tokenizer.word_index) + 1)"
   ]
  },
  {
   "cell_type": "code",
   "execution_count": null,
   "id": "76c3eabf",
   "metadata": {},
   "outputs": [],
   "source": [
    "model = load_model(model_path)"
   ]
  },
  {
   "cell_type": "code",
   "execution_count": null,
   "id": "81b2fe04",
   "metadata": {},
   "outputs": [],
   "source": [
    "model.compile(\n",
    "    loss='categorical_crossentropy',\n",
    "    optimizer='adam',\n",
    "    metrics=['accuracy']\n",
    ")"
   ]
  },
  {
   "cell_type": "code",
   "execution_count": null,
   "id": "57640309",
   "metadata": {},
   "outputs": [],
   "source": [
    "# OPTIONAL: Resize input shape if needed (in case new batch has longer sequences)\n",
    "model.build(input_shape=(None, X.shape[1]))"
   ]
  },
  {
   "cell_type": "code",
   "execution_count": null,
   "id": "5399d4e1",
   "metadata": {},
   "outputs": [],
   "source": [
    "model.fit(X, y, epochs=5, batch_size=128)"
   ]
  },
  {
   "cell_type": "code",
   "execution_count": null,
   "id": "9078a397",
   "metadata": {},
   "outputs": [],
   "source": [
    "new_model_path = f\"song_generator_v{batch_index+1}.h5\"\n",
    "model.save(new_model_path)\n",
    "print(f\"Model saved as {new_model_path}\")\n"
   ]
  }
 ],
 "metadata": {
  "kernelspec": {
   "display_name": "ml-gpu",
   "language": "python",
   "name": "python3"
  },
  "language_info": {
   "codemirror_mode": {
    "name": "ipython",
    "version": 3
   },
   "file_extension": ".py",
   "mimetype": "text/x-python",
   "name": "python",
   "nbconvert_exporter": "python",
   "pygments_lexer": "ipython3",
   "version": "3.11.13"
  }
 },
 "nbformat": 4,
 "nbformat_minor": 5
}
